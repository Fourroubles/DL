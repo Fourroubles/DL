{
 "cells": [
  {
   "cell_type": "code",
   "execution_count": null,
   "id": "a7d88048",
   "metadata": {},
   "outputs": [],
   "source": [
    "import pandas as pd\n",
    "import numpy as np\n",
    "from tensorflow.keras.models import Sequential\n",
    "from tensorflow.keras.layers import Flatten, Dense\n",
    "from tensorflow.keras.utils import to_categorical"
   ]
  },
  {
   "cell_type": "markdown",
   "id": "326cb74c",
   "metadata": {},
   "source": [
    "Скачивание данных"
   ]
  },
  {
   "cell_type": "code",
   "execution_count": null,
   "id": "4d86f17c",
   "metadata": {},
   "outputs": [],
   "source": [
    "train_data = pd.read_csv('fmnist_train.csv')\n",
    "test_data = pd.read_csv('fmnist_test.csv')"
   ]
  },
  {
   "cell_type": "markdown",
   "id": "bbbfb9db",
   "metadata": {},
   "source": [
    "Удаление пустых данных"
   ]
  },
  {
   "cell_type": "code",
   "execution_count": null,
   "id": "df18ae56",
   "metadata": {},
   "outputs": [],
   "source": [
    "train_data = train_data.dropna()\n",
    "test_data = test_data.dropna()"
   ]
  },
  {
   "cell_type": "markdown",
   "id": "6b4cae56",
   "metadata": {},
   "source": [
    "Предоюработка данных"
   ]
  },
  {
   "cell_type": "code",
   "execution_count": null,
   "id": "e00ab3a2",
   "metadata": {},
   "outputs": [],
   "source": [
    "#Создание списка столбцов, которые содержат пиксели\n",
    "pixel_columns = [f'pixel{i}' for i in range(1, 785)]\n",
    "#Из обучающих данных выбираем только столбцы с пикселями\n",
    "X_train = train_data[pixel_columns].values\n",
    "#Из обучающих данных выбираем только столбцы с лейблами\n",
    "y_train = train_data['label'].values\n",
    "#Из тестовых данных выбираем только столбцы с пикселями\n",
    "X_test = test_data[pixel_columns].values "
   ]
  },
  {
   "cell_type": "markdown",
   "id": "357e1fd5",
   "metadata": {},
   "source": [
    "Нормализация данных"
   ]
  },
  {
   "cell_type": "code",
   "execution_count": null,
   "id": "a8f0ea79",
   "metadata": {},
   "outputs": [],
   "source": [
    "X_train = X_train.astype('float32') / 255\n",
    "X_test = X_test.astype('float32') / 255"
   ]
  },
  {
   "cell_type": "markdown",
   "id": "1654783f",
   "metadata": {},
   "source": [
    "One-hot encoding"
   ]
  },
  {
   "cell_type": "code",
   "execution_count": null,
   "id": "532655be",
   "metadata": {},
   "outputs": [],
   "source": [
    "y_train = to_categorical(y_train, num_classes=10)"
   ]
  },
  {
   "cell_type": "markdown",
   "id": "3b0d6f12",
   "metadata": {},
   "source": [
    "Создание модели и ее обучение"
   ]
  },
  {
   "cell_type": "code",
   "execution_count": null,
   "id": "33b0112e",
   "metadata": {},
   "outputs": [
    {
     "name": "stdout",
     "output_type": "stream",
     "text": [
      "Epoch 1/100\n",
      "213/213 [==============================] - 1s 3ms/step - loss: 0.7081 - accuracy: 0.7573 - val_loss: 0.5337 - val_accuracy: 0.8157\n",
      "Epoch 2/100\n",
      "213/213 [==============================] - 1s 3ms/step - loss: 0.4728 - accuracy: 0.8381 - val_loss: 0.4661 - val_accuracy: 0.8369\n",
      "Epoch 3/100\n",
      "213/213 [==============================] - 0s 2ms/step - loss: 0.4260 - accuracy: 0.8487 - val_loss: 0.4489 - val_accuracy: 0.8445\n",
      "Epoch 4/100\n",
      "213/213 [==============================] - 1s 3ms/step - loss: 0.3936 - accuracy: 0.8613 - val_loss: 0.4878 - val_accuracy: 0.8210\n",
      "Epoch 5/100\n",
      "213/213 [==============================] - 1s 3ms/step - loss: 0.3738 - accuracy: 0.8649 - val_loss: 0.4103 - val_accuracy: 0.8545\n",
      "Epoch 6/100\n",
      "213/213 [==============================] - 1s 3ms/step - loss: 0.3486 - accuracy: 0.8760 - val_loss: 0.4222 - val_accuracy: 0.8539\n",
      "Epoch 7/100\n",
      "213/213 [==============================] - 1s 3ms/step - loss: 0.3351 - accuracy: 0.8785 - val_loss: 0.4075 - val_accuracy: 0.8574\n",
      "Epoch 8/100\n",
      "213/213 [==============================] - 1s 3ms/step - loss: 0.3172 - accuracy: 0.8857 - val_loss: 0.3995 - val_accuracy: 0.8498\n",
      "Epoch 9/100\n",
      "213/213 [==============================] - 1s 3ms/step - loss: 0.3071 - accuracy: 0.8905 - val_loss: 0.3821 - val_accuracy: 0.8644\n",
      "Epoch 10/100\n",
      "213/213 [==============================] - 1s 3ms/step - loss: 0.2930 - accuracy: 0.8953 - val_loss: 0.4088 - val_accuracy: 0.8524\n",
      "Epoch 11/100\n",
      "213/213 [==============================] - 1s 4ms/step - loss: 0.2775 - accuracy: 0.8999 - val_loss: 0.4020 - val_accuracy: 0.8583\n",
      "Epoch 12/100\n",
      "213/213 [==============================] - 1s 3ms/step - loss: 0.2646 - accuracy: 0.9058 - val_loss: 0.3952 - val_accuracy: 0.8536\n",
      "Epoch 13/100\n",
      "213/213 [==============================] - 1s 4ms/step - loss: 0.2608 - accuracy: 0.9052 - val_loss: 0.3801 - val_accuracy: 0.8656\n",
      "Epoch 14/100\n",
      "213/213 [==============================] - 1s 4ms/step - loss: 0.2492 - accuracy: 0.9110 - val_loss: 0.3857 - val_accuracy: 0.8606\n",
      "Epoch 15/100\n",
      "213/213 [==============================] - 1s 4ms/step - loss: 0.2407 - accuracy: 0.9118 - val_loss: 0.4166 - val_accuracy: 0.8577\n",
      "Epoch 16/100\n",
      "213/213 [==============================] - 1s 4ms/step - loss: 0.2327 - accuracy: 0.9142 - val_loss: 0.4384 - val_accuracy: 0.8407\n",
      "Epoch 17/100\n",
      "213/213 [==============================] - 1s 4ms/step - loss: 0.2216 - accuracy: 0.9200 - val_loss: 0.3886 - val_accuracy: 0.8677\n",
      "Epoch 18/100\n",
      "213/213 [==============================] - 1s 4ms/step - loss: 0.2216 - accuracy: 0.9201 - val_loss: 0.3677 - val_accuracy: 0.8703\n",
      "Epoch 19/100\n",
      "213/213 [==============================] - 1s 4ms/step - loss: 0.2071 - accuracy: 0.9273 - val_loss: 0.4307 - val_accuracy: 0.8489\n",
      "Epoch 20/100\n",
      "213/213 [==============================] - 1s 4ms/step - loss: 0.2044 - accuracy: 0.9266 - val_loss: 0.3904 - val_accuracy: 0.8680\n",
      "Epoch 21/100\n",
      "213/213 [==============================] - 1s 4ms/step - loss: 0.1889 - accuracy: 0.9330 - val_loss: 0.3714 - val_accuracy: 0.8724\n",
      "Epoch 22/100\n",
      "213/213 [==============================] - 1s 3ms/step - loss: 0.1884 - accuracy: 0.9305 - val_loss: 0.4070 - val_accuracy: 0.8615\n",
      "Epoch 23/100\n",
      "213/213 [==============================] - 1s 4ms/step - loss: 0.1824 - accuracy: 0.9339 - val_loss: 0.4016 - val_accuracy: 0.8653\n",
      "Epoch 24/100\n",
      "213/213 [==============================] - 1s 4ms/step - loss: 0.1779 - accuracy: 0.9368 - val_loss: 0.3758 - val_accuracy: 0.8685\n",
      "Epoch 25/100\n",
      "213/213 [==============================] - 1s 4ms/step - loss: 0.1693 - accuracy: 0.9384 - val_loss: 0.3891 - val_accuracy: 0.8685\n",
      "Epoch 26/100\n",
      "213/213 [==============================] - 1s 4ms/step - loss: 0.1648 - accuracy: 0.9421 - val_loss: 0.3934 - val_accuracy: 0.8703\n",
      "Epoch 27/100\n",
      "213/213 [==============================] - 1s 3ms/step - loss: 0.1649 - accuracy: 0.9421 - val_loss: 0.4098 - val_accuracy: 0.8609\n",
      "Epoch 28/100\n",
      "213/213 [==============================] - 1s 3ms/step - loss: 0.1567 - accuracy: 0.9460 - val_loss: 0.3982 - val_accuracy: 0.8694\n",
      "Epoch 29/100\n",
      "213/213 [==============================] - 1s 3ms/step - loss: 0.1480 - accuracy: 0.9484 - val_loss: 0.3949 - val_accuracy: 0.8732\n",
      "Epoch 30/100\n",
      "213/213 [==============================] - 1s 4ms/step - loss: 0.1417 - accuracy: 0.9493 - val_loss: 0.4138 - val_accuracy: 0.8718\n",
      "Epoch 31/100\n",
      "213/213 [==============================] - 1s 3ms/step - loss: 0.1459 - accuracy: 0.9468 - val_loss: 0.4438 - val_accuracy: 0.8577\n",
      "Epoch 32/100\n",
      "213/213 [==============================] - 1s 4ms/step - loss: 0.1369 - accuracy: 0.9531 - val_loss: 0.4344 - val_accuracy: 0.8668\n",
      "Epoch 33/100\n",
      "213/213 [==============================] - 1s 3ms/step - loss: 0.1316 - accuracy: 0.9545 - val_loss: 0.4091 - val_accuracy: 0.8697\n",
      "Epoch 34/100\n",
      "213/213 [==============================] - 1s 4ms/step - loss: 0.1203 - accuracy: 0.9593 - val_loss: 0.4205 - val_accuracy: 0.8729\n",
      "Epoch 35/100\n",
      "213/213 [==============================] - 1s 4ms/step - loss: 0.1311 - accuracy: 0.9536 - val_loss: 0.4325 - val_accuracy: 0.8656\n",
      "Epoch 36/100\n",
      "213/213 [==============================] - 1s 4ms/step - loss: 0.1167 - accuracy: 0.9576 - val_loss: 0.4271 - val_accuracy: 0.8700\n",
      "Epoch 37/100\n",
      "213/213 [==============================] - 1s 3ms/step - loss: 0.1153 - accuracy: 0.9610 - val_loss: 0.4808 - val_accuracy: 0.8589\n",
      "Epoch 38/100\n",
      "213/213 [==============================] - 1s 4ms/step - loss: 0.1124 - accuracy: 0.9595 - val_loss: 0.4339 - val_accuracy: 0.8756\n",
      "Epoch 39/100\n",
      "213/213 [==============================] - 1s 4ms/step - loss: 0.1062 - accuracy: 0.9636 - val_loss: 0.4458 - val_accuracy: 0.8703\n",
      "Epoch 40/100\n",
      "213/213 [==============================] - 1s 4ms/step - loss: 0.1031 - accuracy: 0.9653 - val_loss: 0.4524 - val_accuracy: 0.8685\n",
      "Epoch 41/100\n",
      "213/213 [==============================] - 1s 4ms/step - loss: 0.0984 - accuracy: 0.9657 - val_loss: 0.4901 - val_accuracy: 0.8677\n",
      "Epoch 42/100\n",
      "213/213 [==============================] - 1s 4ms/step - loss: 0.1009 - accuracy: 0.9650 - val_loss: 0.4592 - val_accuracy: 0.8747\n",
      "Epoch 43/100\n",
      "213/213 [==============================] - 1s 3ms/step - loss: 0.0907 - accuracy: 0.9691 - val_loss: 0.4699 - val_accuracy: 0.8668\n",
      "Epoch 44/100\n",
      "213/213 [==============================] - 1s 4ms/step - loss: 0.0862 - accuracy: 0.9712 - val_loss: 0.4506 - val_accuracy: 0.8721\n",
      "Epoch 45/100\n",
      "213/213 [==============================] - 1s 4ms/step - loss: 0.0861 - accuracy: 0.9711 - val_loss: 0.4558 - val_accuracy: 0.8724\n",
      "Epoch 46/100\n",
      "213/213 [==============================] - 1s 4ms/step - loss: 0.0850 - accuracy: 0.9706 - val_loss: 0.4841 - val_accuracy: 0.8703\n",
      "Epoch 47/100\n",
      "213/213 [==============================] - 1s 3ms/step - loss: 0.0791 - accuracy: 0.9745 - val_loss: 0.4862 - val_accuracy: 0.8656\n",
      "Epoch 48/100\n",
      "213/213 [==============================] - 1s 4ms/step - loss: 0.0820 - accuracy: 0.9724 - val_loss: 0.5149 - val_accuracy: 0.8656\n",
      "Epoch 49/100\n",
      "213/213 [==============================] - 1s 4ms/step - loss: 0.0769 - accuracy: 0.9738 - val_loss: 0.4927 - val_accuracy: 0.8712\n",
      "Epoch 50/100\n",
      "213/213 [==============================] - 1s 3ms/step - loss: 0.0742 - accuracy: 0.9750 - val_loss: 0.5209 - val_accuracy: 0.8618\n",
      "Epoch 51/100\n",
      "213/213 [==============================] - 1s 4ms/step - loss: 0.0803 - accuracy: 0.9720 - val_loss: 0.5028 - val_accuracy: 0.8665\n",
      "Epoch 52/100\n",
      "213/213 [==============================] - 1s 4ms/step - loss: 0.0679 - accuracy: 0.9777 - val_loss: 0.5170 - val_accuracy: 0.8674\n",
      "Epoch 53/100\n",
      "213/213 [==============================] - 1s 3ms/step - loss: 0.0646 - accuracy: 0.9789 - val_loss: 0.5078 - val_accuracy: 0.8706\n",
      "Epoch 54/100\n",
      "213/213 [==============================] - 1s 4ms/step - loss: 0.0598 - accuracy: 0.9803 - val_loss: 0.5335 - val_accuracy: 0.8671\n",
      "Epoch 55/100\n",
      "213/213 [==============================] - 1s 4ms/step - loss: 0.0637 - accuracy: 0.9795 - val_loss: 0.5346 - val_accuracy: 0.8671\n",
      "Epoch 56/100\n",
      "213/213 [==============================] - 1s 4ms/step - loss: 0.0611 - accuracy: 0.9792 - val_loss: 0.5306 - val_accuracy: 0.8700\n",
      "Epoch 57/100\n",
      "213/213 [==============================] - 1s 4ms/step - loss: 0.0682 - accuracy: 0.9769 - val_loss: 0.5163 - val_accuracy: 0.8694\n",
      "Epoch 58/100\n",
      "213/213 [==============================] - 1s 4ms/step - loss: 0.0556 - accuracy: 0.9818 - val_loss: 0.5440 - val_accuracy: 0.8697\n",
      "Epoch 59/100\n",
      "213/213 [==============================] - 1s 4ms/step - loss: 0.0501 - accuracy: 0.9839 - val_loss: 0.5684 - val_accuracy: 0.8609\n",
      "Epoch 60/100\n",
      "213/213 [==============================] - 1s 3ms/step - loss: 0.0567 - accuracy: 0.9819 - val_loss: 0.5647 - val_accuracy: 0.8665\n",
      "Epoch 61/100\n",
      "213/213 [==============================] - 1s 4ms/step - loss: 0.0521 - accuracy: 0.9838 - val_loss: 0.5453 - val_accuracy: 0.8665\n",
      "Epoch 62/100\n",
      "213/213 [==============================] - 1s 4ms/step - loss: 0.0492 - accuracy: 0.9842 - val_loss: 0.5633 - val_accuracy: 0.8732\n",
      "Epoch 63/100\n",
      "213/213 [==============================] - 1s 3ms/step - loss: 0.0455 - accuracy: 0.9855 - val_loss: 0.5737 - val_accuracy: 0.8700\n",
      "Epoch 64/100\n",
      "213/213 [==============================] - 1s 4ms/step - loss: 0.0570 - accuracy: 0.9815 - val_loss: 0.5907 - val_accuracy: 0.8685\n",
      "Epoch 65/100\n",
      "213/213 [==============================] - 1s 4ms/step - loss: 0.0485 - accuracy: 0.9844 - val_loss: 0.5659 - val_accuracy: 0.8712\n",
      "Epoch 66/100\n",
      "213/213 [==============================] - 1s 4ms/step - loss: 0.0517 - accuracy: 0.9836 - val_loss: 0.5828 - val_accuracy: 0.8674\n",
      "Epoch 67/100\n",
      "213/213 [==============================] - 1s 4ms/step - loss: 0.0376 - accuracy: 0.9890 - val_loss: 0.6082 - val_accuracy: 0.8732\n",
      "Epoch 68/100\n",
      "213/213 [==============================] - 1s 4ms/step - loss: 0.0452 - accuracy: 0.9862 - val_loss: 0.6360 - val_accuracy: 0.8586\n",
      "Epoch 69/100\n",
      "213/213 [==============================] - 1s 4ms/step - loss: 0.0450 - accuracy: 0.9857 - val_loss: 0.5934 - val_accuracy: 0.8706\n",
      "Epoch 70/100\n",
      "213/213 [==============================] - 1s 4ms/step - loss: 0.0359 - accuracy: 0.9899 - val_loss: 0.5871 - val_accuracy: 0.8709\n",
      "Epoch 71/100\n",
      "213/213 [==============================] - 1s 3ms/step - loss: 0.0345 - accuracy: 0.9899 - val_loss: 0.6164 - val_accuracy: 0.8680\n",
      "Epoch 72/100\n",
      "213/213 [==============================] - 1s 4ms/step - loss: 0.0493 - accuracy: 0.9828 - val_loss: 0.6598 - val_accuracy: 0.8603\n",
      "Epoch 73/100\n",
      "213/213 [==============================] - 1s 4ms/step - loss: 0.0446 - accuracy: 0.9847 - val_loss: 0.6144 - val_accuracy: 0.8706\n",
      "Epoch 74/100\n",
      "213/213 [==============================] - 1s 4ms/step - loss: 0.0420 - accuracy: 0.9861 - val_loss: 0.6716 - val_accuracy: 0.8530\n",
      "Epoch 75/100\n",
      "213/213 [==============================] - 1s 4ms/step - loss: 0.0427 - accuracy: 0.9858 - val_loss: 0.6357 - val_accuracy: 0.8697\n",
      "Epoch 76/100\n",
      "213/213 [==============================] - 1s 4ms/step - loss: 0.0279 - accuracy: 0.9931 - val_loss: 0.6152 - val_accuracy: 0.8718\n",
      "Epoch 77/100\n",
      "213/213 [==============================] - 1s 4ms/step - loss: 0.0292 - accuracy: 0.9921 - val_loss: 0.6344 - val_accuracy: 0.8688\n",
      "Epoch 78/100\n",
      "213/213 [==============================] - 1s 4ms/step - loss: 0.0300 - accuracy: 0.9907 - val_loss: 0.6562 - val_accuracy: 0.8653\n",
      "Epoch 79/100\n",
      "213/213 [==============================] - 1s 4ms/step - loss: 0.0268 - accuracy: 0.9924 - val_loss: 0.6377 - val_accuracy: 0.8691\n",
      "Epoch 80/100\n",
      "213/213 [==============================] - 1s 4ms/step - loss: 0.0282 - accuracy: 0.9914 - val_loss: 0.6709 - val_accuracy: 0.8636\n",
      "Epoch 81/100\n",
      "213/213 [==============================] - 1s 4ms/step - loss: 0.0356 - accuracy: 0.9886 - val_loss: 0.6936 - val_accuracy: 0.8706\n",
      "Epoch 82/100\n",
      "213/213 [==============================] - 1s 4ms/step - loss: 0.0275 - accuracy: 0.9910 - val_loss: 0.6765 - val_accuracy: 0.8650\n",
      "Epoch 83/100\n",
      "213/213 [==============================] - 1s 4ms/step - loss: 0.0281 - accuracy: 0.9911 - val_loss: 0.7063 - val_accuracy: 0.8656\n",
      "Epoch 84/100\n",
      "213/213 [==============================] - 1s 4ms/step - loss: 0.0258 - accuracy: 0.9917 - val_loss: 0.6719 - val_accuracy: 0.8685\n",
      "Epoch 85/100\n",
      "213/213 [==============================] - 1s 4ms/step - loss: 0.0314 - accuracy: 0.9896 - val_loss: 0.7153 - val_accuracy: 0.8638\n",
      "Epoch 86/100\n",
      "213/213 [==============================] - 1s 4ms/step - loss: 0.0260 - accuracy: 0.9924 - val_loss: 0.7421 - val_accuracy: 0.8597\n",
      "Epoch 87/100\n",
      "213/213 [==============================] - 1s 5ms/step - loss: 0.0514 - accuracy: 0.9810 - val_loss: 0.7167 - val_accuracy: 0.8683\n",
      "Epoch 88/100\n",
      "213/213 [==============================] - 1s 4ms/step - loss: 0.0347 - accuracy: 0.9880 - val_loss: 0.7070 - val_accuracy: 0.8697\n",
      "Epoch 89/100\n",
      "213/213 [==============================] - 1s 4ms/step - loss: 0.0290 - accuracy: 0.9912 - val_loss: 0.6719 - val_accuracy: 0.8747\n",
      "Epoch 90/100\n",
      "213/213 [==============================] - 1s 4ms/step - loss: 0.0197 - accuracy: 0.9949 - val_loss: 0.6897 - val_accuracy: 0.8656\n",
      "Epoch 91/100\n",
      "213/213 [==============================] - 1s 4ms/step - loss: 0.0170 - accuracy: 0.9950 - val_loss: 0.7733 - val_accuracy: 0.8641\n",
      "Epoch 92/100\n",
      "213/213 [==============================] - 1s 4ms/step - loss: 0.0314 - accuracy: 0.9893 - val_loss: 0.7099 - val_accuracy: 0.8700\n",
      "Epoch 93/100\n",
      "213/213 [==============================] - 1s 6ms/step - loss: 0.0173 - accuracy: 0.9952 - val_loss: 0.7047 - val_accuracy: 0.8703\n",
      "Epoch 94/100\n",
      "213/213 [==============================] - 1s 4ms/step - loss: 0.0194 - accuracy: 0.9943 - val_loss: 0.6983 - val_accuracy: 0.8706\n",
      "Epoch 95/100\n",
      "213/213 [==============================] - 1s 4ms/step - loss: 0.0134 - accuracy: 0.9968 - val_loss: 0.7194 - val_accuracy: 0.8718\n",
      "Epoch 96/100\n",
      "213/213 [==============================] - 1s 4ms/step - loss: 0.0282 - accuracy: 0.9912 - val_loss: 0.7153 - val_accuracy: 0.8647\n",
      "Epoch 97/100\n",
      "213/213 [==============================] - 1s 4ms/step - loss: 0.0470 - accuracy: 0.9842 - val_loss: 0.7161 - val_accuracy: 0.8691\n",
      "Epoch 98/100\n",
      "213/213 [==============================] - 1s 4ms/step - loss: 0.0278 - accuracy: 0.9905 - val_loss: 0.7488 - val_accuracy: 0.8671\n",
      "Epoch 99/100\n",
      "213/213 [==============================] - 1s 4ms/step - loss: 0.0160 - accuracy: 0.9959 - val_loss: 0.7517 - val_accuracy: 0.8656\n",
      "Epoch 100/100\n",
      "213/213 [==============================] - 1s 4ms/step - loss: 0.0111 - accuracy: 0.9979 - val_loss: 0.7328 - val_accuracy: 0.8750\n"
     ]
    }
   ],
   "source": [
    "model = Sequential([\n",
    "    Flatten(input_shape=(784,)),  # Преобразование двумерных данных в одномерный массив\n",
    "    Dense(128, activation='relu'),\n",
    "    Dense(10, activation='softmax')\n",
    "])\n",
    "model.compile(optimizer='adam', loss='categorical_crossentropy', metrics=['accuracy'])\n",
    "\n",
    "# Обучение\n",
    "history = model.fit(X_train, y_train, epochs=100, batch_size=64, validation_split=0.2)"
   ]
  },
  {
   "cell_type": "markdown",
   "id": "e3e89072",
   "metadata": {},
   "source": [
    "Предсказание модели и запись в файл"
   ]
  },
  {
   "cell_type": "code",
   "execution_count": 32,
   "id": "036c9ca4",
   "metadata": {},
   "outputs": [
    {
     "name": "stdout",
     "output_type": "stream",
     "text": [
      "313/313 [==============================] - 0s 1ms/step\n"
     ]
    }
   ],
   "source": [
    "y_pred = model.predict(X_test)\n",
    "y_pred_classes = np.argmax(y_pred, axis=1)\n",
    "submission = pd.DataFrame({'Id': test_data['Id'], 'label': y_pred_classes})\n",
    "submission.to_csv('submission1.csv', index=False)"
   ]
  }
 ],
 "metadata": {
  "kernelspec": {
   "display_name": "Python 3",
   "language": "python",
   "name": "python3"
  },
  "language_info": {
   "codemirror_mode": {
    "name": "ipython",
    "version": 3
   },
   "file_extension": ".py",
   "mimetype": "text/x-python",
   "name": "python",
   "nbconvert_exporter": "python",
   "pygments_lexer": "ipython3",
   "version": "3.10.4"
  }
 },
 "nbformat": 4,
 "nbformat_minor": 5
}
